{
 "cells": [
  {
   "cell_type": "code",
   "execution_count": 1,
   "metadata": {
    "collapsed": false
   },
   "outputs": [],
   "source": [
    "%matplotlib inline"
   ]
  },
  {
   "cell_type": "code",
   "execution_count": 2,
   "metadata": {
    "collapsed": true
   },
   "outputs": [],
   "source": [
    "from Bio import SeqIO\n",
    "import numpy as np\n",
    "import matplotlib.pyplot as plt\n",
    "import matplotlib.patches as patches\n",
    "from matplotlib.path import Path\n",
    "import matplotlib"
   ]
  },
  {
   "cell_type": "code",
   "execution_count": 3,
   "metadata": {
    "collapsed": true
   },
   "outputs": [],
   "source": [
    "%run bioplotlib/collections.py\n",
    "%run bioplotlib/gene_shapes.py"
   ]
  },
  {
   "cell_type": "code",
   "execution_count": 17,
   "metadata": {
    "collapsed": false
   },
   "outputs": [],
   "source": [
    "seq = SeqIO.read(\"bioplotlib/data/Sc-chr01.gb\", 'genbank')"
   ]
  },
  {
   "cell_type": "code",
   "execution_count": 18,
   "metadata": {
    "collapsed": false
   },
   "outputs": [
    {
     "data": {
      "image/png": "[encoded data removed]",
      "text/plain": [
       "<matplotlib.figure.Figure at 0x7f51e06cfa20>"
      ]
     },
     "metadata": {},
     "output_type": "display_data"
    }
   ],
   "source": [
    "fig, ax = plt.subplots()\n",
    "features = list()\n",
    "exon = Rectangle()\n",
    "verts, codes = exon(6, 0.25, 1)\n",
    "p = Path(verts, codes)\n",
    "ax.add_patch(patches.PathPatch(p, facecolor='blue', ec=\"none\"))\n",
    "intron = OpenTriangle(width=0.25, y_offset=1)\n",
    "verts, codes = intron(1.2, .25, 1)\n",
    "p = Path(verts, codes)\n",
    "ax.add_patch(patches.PathPatch(p, facecolor='none'))\n",
    "\n",
    "ax.set_xlim(10, 0)\n",
    "ax.set_ylim(0, 2)\n",
    "\n",
    "plt.show()"
   ]
  },
  {
   "cell_type": "code",
   "execution_count": 47,
   "metadata": {
    "collapsed": false,
    "scrolled": true
   },
   "outputs": [
    {
     "name": "stdout",
     "output_type": "stream",
     "text": [
      "Path(array([[  1.56400000e+03,   0.00000000e+00],\n",
      "       [  1.95100000e+03,   0.00000000e+00],\n",
      "       [  1.95100000e+03,   1.00000000e+00],\n",
      "       [  1.56400000e+03,   1.00000000e+00],\n",
      "       [  1.56400000e+03,   0.00000000e+00]]), array([ 1,  2,  2,  2, 79], dtype=uint8)) 0\n",
      "Path(array([[  2.04500000e+03,   0.00000000e+00],\n",
      "       [  2.42600000e+03,   0.00000000e+00],\n",
      "       [  2.42600000e+03,   1.00000000e+00],\n",
      "       [  2.04500000e+03,   1.00000000e+00],\n",
      "       [  2.04500000e+03,   0.00000000e+00]]), array([ 1,  2,  2,  2, 79], dtype=uint8)) 0\n",
      "Path(array([[  3.36200000e+03,   0.00000000e+00],\n",
      "       [  3.74300000e+03,   0.00000000e+00],\n",
      "       [  3.74300000e+03,   1.00000000e+00],\n",
      "       [  3.36200000e+03,   1.00000000e+00],\n",
      "       [  3.36200000e+03,   0.00000000e+00]]), array([ 1,  2,  2,  2, 79], dtype=uint8)) 0\n",
      "[<matplotlib.patches.PathPatch object at 0x7f51e0619c18>, <matplotlib.patches.PathPatch object at 0x7f51e0836358>, <matplotlib.patches.PathPatch object at 0x7f51e0836438>]\n"
     ]
    },
    {
     "data": {
      "image/png": "[encoded data removed]",
      "text/plain": [
       "<matplotlib.figure.Figure at 0x7f51e0efaeb8>"
      ]
     },
     "metadata": {},
     "output_type": "display_data"
    }
   ],
   "source": [
    "start = 10000\n",
    "end = 15000\n",
    "fig, ax = plt.subplots()\n",
    "features = list()\n",
    "exon = Rectangle()\n",
    "intron = OpenTriangle(width=0.25, y_offset=1)\n",
    "fc = ['red', 'yellow', 'blue']\n",
    "for feature in seq[start:end].features:\n",
    "    if feature.type == 'CDS':\n",
    "        i = 0\n",
    "        for part in feature.location.parts:\n",
    "            verts, codes = exon(part.start, 0, part.end - part.start)\n",
    "            p = Path(verts, codes)\n",
    "            print(p, i)\n",
    "            ax.add_patch(patches.PathPatch(p, facecolor=fc[i], ec=\"none\"))\n",
    "            #try:\n",
    "            i += 1\n",
    "            \n",
    "            \n",
    "ax.set_xlim(0, 5000)\n",
    "ax.set_ylim(0, 2)\n",
    "print(ax.patches)\n",
    "\n",
    "plt.show()"
   ]
  },
  {
   "cell_type": "code",
   "execution_count": null,
   "metadata": {
    "collapsed": false
   },
   "outputs": [],
   "source": []
  },
  {
   "cell_type": "code",
   "execution_count": 6,
   "metadata": {
    "collapsed": false,
    "scrolled": false
   },
   "outputs": [
    {
     "data": {
      "image/png": "[encoded data removed]",
      "text/plain": [
       "<matplotlib.figure.Figure at 0x7fbd00650550>"
      ]
     },
     "metadata": {},
     "output_type": "display_data"
    }
   ],
   "source": [
    "fig, ax = plt.subplots()\n",
    "col = matplotlib.collections.PolyCollection([\n",
    "    [(10, 7.5),(10, 12.5),(210, 12.5),(210, 7.5),(10, 7.5)],\n",
    "    [(500, 7.5),(500, 12.5),(600, 12.5),(600, 7.5),(500, 7.5)]\n",
    "    ], facecolors='yellow')\n",
    "ax.add_collection(col)\n",
    "ax.broken_barh([(700, -150)], (7.5, 5), facecolors='blue')\n",
    "ax.broken_barh([(650, 150)], (7.5, 5), facecolors='red')\n",
    "ax.set_ylim(5, 15)\n",
    "ax.set_xlim(0, 1000)\n",
    "ax.set_yticks([7, 8, 10, 12.5])\n",
    "ax.set_yticklabels([\"test\", \"x\", \"y\", \"j\"])\n",
    "\n",
    "plt.show()"
   ]
  },
  {
   "cell_type": "code",
   "execution_count": 83,
   "metadata": {
    "collapsed": false
   },
   "outputs": [
    {
     "data": {
      "image/png": "[encoded data removed]",
      "text/plain": [
       "<matplotlib.figure.Figure at 0x7fbd0043ed68>"
      ]
     },
     "metadata": {},
     "output_type": "display_data"
    }
   ],
   "source": [
    "\"\"\"\n",
    "Demo of a line plot on a polar axis.\n",
    "\"\"\"\n",
    "import numpy as np\n",
    "import matplotlib.pyplot as plt\n",
    "from matplotlib import transforms\n",
    "from matplotlib.projections.polar import InvertedPolarTransform\n",
    "\n",
    "ax = plt.subplot(111, polar=True)\n",
    "\n",
    "verts = [\n",
    "    (np.pi * 1.1, 1.9), # left, bottom\n",
    "    (0., 0.), # left, top\n",
    "    (np.pi + 0.1, 1.9),\n",
    "    (np.pi, 1.9), \n",
    "    (0., 0.), # left, top\n",
    "    ((np.pi * 1.1) + 0.1, 1.9), # left, bottom\n",
    "    ((np.pi * 1.0), 1.9), # left, bottom\n",
    "]\n",
    "codes = [\n",
    "    Path.MOVETO,\n",
    "    Path.CURVE3,\n",
    "    Path.LINETO,\n",
    "    Path.LINETO,\n",
    "    Path.CURVE3,\n",
    "    Path.LINETO,\n",
    "    Path.CLOSEPOLY\n",
    "    ]\n",
    "\n",
    "p = Path(verts, codes)\n",
    "ax.add_patch(patches.PathPatch(p, facecolor='blue', ec=\"none\", alpha=0.2))\n",
    "\n",
    "# add a rectangle\n",
    "rect = patches.Rectangle([np.pi * 0.8, 1.9], np.pi/2, 0.1, ec=\"none\", facecolor=\"red\")\n",
    "ax.add_patch(rect)\n",
    "ax.set_rmax(2.)\n",
    "ax.set_yticks([])\n",
    "ax.set_xticks([0, 2 * np.pi/3, 4 * np.pi / 3])\n",
    "ax.set_xticklabels([\"Start\", \"middle\", \"End\"])\n",
    "#ax.set_axis_off()  # Supress the axis line\n",
    "#ax.set_title(\"A line plot on a polar axis\", va='bottom')\n",
    "#ax.grid(False)\n",
    "plt.show()"
   ]
  },
  {
   "cell_type": "code",
   "execution_count": 82,
   "metadata": {
    "collapsed": false
   },
   "outputs": [
    {
     "data": {
      "image/png": "[encoded data removed]",
      "text/plain": [
       "<matplotlib.figure.Figure at 0x7fbd0043ddd8>"
      ]
     },
     "metadata": {},
     "output_type": "display_data"
    }
   ],
   "source": [
    "fp = mpl.font_manager.FontProperties(family=\"monospace\", size=.1)\n",
    "x = mpl.collections.PathCollection([mpl.textpath.TextPath((0,0), \"AGGTaabdssdikdf\", prop=fp), mpl.textpath.TextPath((0,0.2), \"AGGT\", prop=fp)])\n",
    "ax = plt.subplot(111)\n",
    "ax.add_collection(x)\n",
    "plt.show()"
   ]
  },
  {
   "cell_type": "code",
   "execution_count": 79,
   "metadata": {
    "collapsed": false,
    "scrolled": true
   },
   "outputs": [
    {
     "data": {
      "image/png": "[encoded data removed]",
      "text/plain": [
       "<matplotlib.figure.Figure at 0x7fbd00249d68>"
      ]
     },
     "metadata": {},
     "output_type": "display_data"
    }
   ],
   "source": []
  },
  {
   "cell_type": "code",
   "execution_count": 75,
   "metadata": {
    "collapsed": false
   },
   "outputs": [],
   "source": [
    "offset = mpl.transforms.ScaledTranslation(12, 12, fig.dpi_scale_trans)"
   ]
  },
  {
   "cell_type": "code",
   "execution_count": 51,
   "metadata": {
    "collapsed": false
   },
   "outputs": [
    {
     "data": {
      "text/plain": [
       "array([[   1.,    0.,  960.],\n",
       "       [   0.,    1.,  960.],\n",
       "       [   0.,    0.,    1.]])"
      ]
     },
     "execution_count": 51,
     "metadata": {},
     "output_type": "execute_result"
    }
   ],
   "source": [
    "offset"
   ]
  },
  {
   "cell_type": "code",
   "execution_count": null,
   "metadata": {
    "collapsed": false
   },
   "outputs": [],
   "source": []
  },
  {
   "cell_type": "code",
   "execution_count": null,
   "metadata": {
    "collapsed": true
   },
   "outputs": [],
   "source": []
  },
  {
   "cell_type": "code",
   "execution_count": null,
   "metadata": {
    "collapsed": true
   },
   "outputs": [],
   "source": []
  }
 ],
 "metadata": {
  "kernelspec": {
   "display_name": "Python 3",
   "language": "python",
   "name": "python3"
  },
  "language_info": {
   "codemirror_mode": {
    "name": "ipython",
    "version": 3
   },
   "file_extension": ".py",
   "mimetype": "text/x-python",
   "name": "python",
   "nbconvert_exporter": "python",
   "pygments_lexer": "ipython3",
   "version": "3.4.2"
  }
 },
 "nbformat": 4,
 "nbformat_minor": 0
}
